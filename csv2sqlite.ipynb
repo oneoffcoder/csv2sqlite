{
 "cells": [
  {
   "cell_type": "markdown",
   "id": "b7f7812c-c927-4dc1-854c-a135dcd0ddf0",
   "metadata": {},
   "source": [
    "# CSV to SQLite\n",
    "\n",
    "This notebook shows how to `crawl` a directory of `*.csv` files and import them into SQLite.\n",
    "\n",
    "In this example, we store `*.csv` files in a folder relative to the notebook `./data`. We then create a SQLite database from these CSV files.\n",
    "\n",
    "To customize this notebook, change the values of the 2 variables below.\n",
    "\n",
    "- `dir_to_csv`\n",
    "- `sqlite_db`"
   ]
  },
  {
   "cell_type": "markdown",
   "id": "6444959f-1b61-4285-99ad-41d86ad976ba",
   "metadata": {},
   "source": [
    "## Create SQLite database"
   ]
  },
  {
   "cell_type": "code",
   "execution_count": 1,
   "id": "aa291e09-de33-4d7a-ae7f-a2b36030741a",
   "metadata": {},
   "outputs": [
    {
     "name": "stdout",
     "output_type": "stream",
     "text": [
      "processing data/grade.csv\n",
      "processing data/person.csv\n"
     ]
    }
   ],
   "source": [
    "import pathlib\n",
    "import pandas as pd\n",
    "import sqlite3\n",
    "\n",
    "def get_create_sql(file_path, df):\n",
    "    def get_type(t):\n",
    "        if t.startswith('int') or t.startswith('bool'):\n",
    "            return 'INTEGER'\n",
    "        if t.startswith('float'):\n",
    "            return 'REAL'\n",
    "        return 'TEXT'\n",
    "    \n",
    "    fields = [(n, get_type(str(t))) for n, t in zip(df.dtypes.index, df.dtypes.values)]\n",
    "    fields = [f'{n} {t}' for n, t in fields]\n",
    "    fields = ', '.join(fields)\n",
    "    \n",
    "    table = file_path.stem\n",
    "    \n",
    "    sql = f'CREATE TABLE {table} ({fields})'\n",
    "    return sql\n",
    "    \n",
    "def get_data(file_path):\n",
    "    df = pd.read_csv(file_path, low_memory=False)\n",
    "    return df\n",
    "        \n",
    "def get_csv_files(dir_path):\n",
    "    csv_files = list(pathlib.Path(dir_path).glob('*.csv'))\n",
    "    return csv_files\n",
    "\n",
    "def create_db(input_dir, output_db):\n",
    "    pathlib.Path(output_db).touch()\n",
    "    \n",
    "    files = get_csv_files(input_dir)\n",
    "    with sqlite3.connect(output_db) as conn:\n",
    "        cur = conn.cursor()\n",
    "        \n",
    "        for file_path in files:\n",
    "            print(f'processing {file_path}')\n",
    "            \n",
    "            df = get_data(file_path)\n",
    "            \n",
    "            sql = get_create_sql(file_path, df)\n",
    "            cur.execute(sql)\n",
    "            \n",
    "            df.to_sql(file_path.stem, conn, if_exists='replace', index=False)\n",
    "\n",
    "dir_to_csv = './data'\n",
    "sqlite_db = './mydb.db'\n",
    "\n",
    "create_db(dir_to_csv, sqlite_db)"
   ]
  },
  {
   "cell_type": "markdown",
   "id": "201ead59-0bd0-40ab-a6eb-dad9cf565ce6",
   "metadata": {},
   "source": [
    "## Verify that it works with the SQLite driver"
   ]
  },
  {
   "cell_type": "code",
   "execution_count": 2,
   "id": "aa31facd-d299-4517-a38f-0d3e57dac117",
   "metadata": {},
   "outputs": [
    {
     "name": "stdout",
     "output_type": "stream",
     "text": [
      "(1, 'john', 'smith', 32, 155.5, 1, 1, 1, 99.9)\n",
      "(1, 'john', 'smith', 32, 155.5, 1, 2, 1, 88.8)\n",
      "(1, 'john', 'smith', 32, 155.5, 1, 3, 1, 92.2)\n",
      "(2, 'jane', 'clinton', 28, 133.3, 0, 4, 2, 88.9)\n",
      "(2, 'jane', 'clinton', 28, 133.3, 0, 5, 2, 92.2)\n",
      "(2, 'jane', 'clinton', 28, 133.3, 0, 6, 2, 84.4)\n"
     ]
    }
   ],
   "source": [
    "with sqlite3.connect('./mydb.db') as conn:\n",
    "    sql = '''\n",
    "    SELECT *\n",
    "    FROM person p\n",
    "        JOIN grade g ON p.id = g.person_id\n",
    "    '''\n",
    "    \n",
    "    cur = conn.cursor()\n",
    "    cur.execute(sql)\n",
    "    \n",
    "    items = cur.fetchall()\n",
    "    for i in items:\n",
    "        print(i)"
   ]
  },
  {
   "cell_type": "markdown",
   "id": "f4b91e34-4e9e-4308-9723-34a03e219c05",
   "metadata": {},
   "source": [
    "## Verify that it works with Pandas"
   ]
  },
  {
   "cell_type": "code",
   "execution_count": 3,
   "id": "d27b5062-7f35-490f-8fc0-b13bedbf42b7",
   "metadata": {},
   "outputs": [
    {
     "data": {
      "text/html": [
       "<div>\n",
       "<style scoped>\n",
       "    .dataframe tbody tr th:only-of-type {\n",
       "        vertical-align: middle;\n",
       "    }\n",
       "\n",
       "    .dataframe tbody tr th {\n",
       "        vertical-align: top;\n",
       "    }\n",
       "\n",
       "    .dataframe thead th {\n",
       "        text-align: right;\n",
       "    }\n",
       "</style>\n",
       "<table border=\"1\" class=\"dataframe\">\n",
       "  <thead>\n",
       "    <tr style=\"text-align: right;\">\n",
       "      <th></th>\n",
       "      <th>id</th>\n",
       "      <th>first_name</th>\n",
       "      <th>last_name</th>\n",
       "      <th>age</th>\n",
       "      <th>weight</th>\n",
       "      <th>is_male</th>\n",
       "      <th>id</th>\n",
       "      <th>person_id</th>\n",
       "      <th>score</th>\n",
       "    </tr>\n",
       "  </thead>\n",
       "  <tbody>\n",
       "    <tr>\n",
       "      <th>0</th>\n",
       "      <td>1</td>\n",
       "      <td>john</td>\n",
       "      <td>smith</td>\n",
       "      <td>32</td>\n",
       "      <td>155.5</td>\n",
       "      <td>1</td>\n",
       "      <td>1</td>\n",
       "      <td>1</td>\n",
       "      <td>99.9</td>\n",
       "    </tr>\n",
       "    <tr>\n",
       "      <th>1</th>\n",
       "      <td>1</td>\n",
       "      <td>john</td>\n",
       "      <td>smith</td>\n",
       "      <td>32</td>\n",
       "      <td>155.5</td>\n",
       "      <td>1</td>\n",
       "      <td>2</td>\n",
       "      <td>1</td>\n",
       "      <td>88.8</td>\n",
       "    </tr>\n",
       "    <tr>\n",
       "      <th>2</th>\n",
       "      <td>1</td>\n",
       "      <td>john</td>\n",
       "      <td>smith</td>\n",
       "      <td>32</td>\n",
       "      <td>155.5</td>\n",
       "      <td>1</td>\n",
       "      <td>3</td>\n",
       "      <td>1</td>\n",
       "      <td>92.2</td>\n",
       "    </tr>\n",
       "    <tr>\n",
       "      <th>3</th>\n",
       "      <td>2</td>\n",
       "      <td>jane</td>\n",
       "      <td>clinton</td>\n",
       "      <td>28</td>\n",
       "      <td>133.3</td>\n",
       "      <td>0</td>\n",
       "      <td>4</td>\n",
       "      <td>2</td>\n",
       "      <td>88.9</td>\n",
       "    </tr>\n",
       "    <tr>\n",
       "      <th>4</th>\n",
       "      <td>2</td>\n",
       "      <td>jane</td>\n",
       "      <td>clinton</td>\n",
       "      <td>28</td>\n",
       "      <td>133.3</td>\n",
       "      <td>0</td>\n",
       "      <td>5</td>\n",
       "      <td>2</td>\n",
       "      <td>92.2</td>\n",
       "    </tr>\n",
       "    <tr>\n",
       "      <th>5</th>\n",
       "      <td>2</td>\n",
       "      <td>jane</td>\n",
       "      <td>clinton</td>\n",
       "      <td>28</td>\n",
       "      <td>133.3</td>\n",
       "      <td>0</td>\n",
       "      <td>6</td>\n",
       "      <td>2</td>\n",
       "      <td>84.4</td>\n",
       "    </tr>\n",
       "  </tbody>\n",
       "</table>\n",
       "</div>"
      ],
      "text/plain": [
       "   id first_name last_name  age  weight  is_male  id  person_id  score\n",
       "0   1       john     smith   32   155.5        1   1          1   99.9\n",
       "1   1       john     smith   32   155.5        1   2          1   88.8\n",
       "2   1       john     smith   32   155.5        1   3          1   92.2\n",
       "3   2       jane   clinton   28   133.3        0   4          2   88.9\n",
       "4   2       jane   clinton   28   133.3        0   5          2   92.2\n",
       "5   2       jane   clinton   28   133.3        0   6          2   84.4"
      ]
     },
     "execution_count": 3,
     "metadata": {},
     "output_type": "execute_result"
    }
   ],
   "source": [
    "with sqlite3.connect('./mydb.db') as conn:\n",
    "    sql = '''\n",
    "    SELECT *\n",
    "    FROM person p\n",
    "        JOIN grade g ON p.id = g.person_id\n",
    "    '''\n",
    "    \n",
    "    df = pd.read_sql(sql, conn)\n",
    "    \n",
    "df"
   ]
  },
  {
   "cell_type": "code",
   "execution_count": 4,
   "id": "7cac17ff-7ec9-44d2-8b78-b816b6f3afe6",
   "metadata": {},
   "outputs": [
    {
     "data": {
      "text/html": [
       "<div>\n",
       "<style scoped>\n",
       "    .dataframe tbody tr th:only-of-type {\n",
       "        vertical-align: middle;\n",
       "    }\n",
       "\n",
       "    .dataframe tbody tr th {\n",
       "        vertical-align: top;\n",
       "    }\n",
       "\n",
       "    .dataframe thead th {\n",
       "        text-align: right;\n",
       "    }\n",
       "</style>\n",
       "<table border=\"1\" class=\"dataframe\">\n",
       "  <thead>\n",
       "    <tr style=\"text-align: right;\">\n",
       "      <th></th>\n",
       "      <th>id</th>\n",
       "      <th>score</th>\n",
       "    </tr>\n",
       "  </thead>\n",
       "  <tbody>\n",
       "    <tr>\n",
       "      <th>0</th>\n",
       "      <td>1</td>\n",
       "      <td>93.633333</td>\n",
       "    </tr>\n",
       "    <tr>\n",
       "      <th>1</th>\n",
       "      <td>2</td>\n",
       "      <td>88.500000</td>\n",
       "    </tr>\n",
       "  </tbody>\n",
       "</table>\n",
       "</div>"
      ],
      "text/plain": [
       "   id      score\n",
       "0   1  93.633333\n",
       "1   2  88.500000"
      ]
     },
     "execution_count": 4,
     "metadata": {},
     "output_type": "execute_result"
    }
   ],
   "source": [
    "with sqlite3.connect('./mydb.db') as conn:\n",
    "    sql = '''\n",
    "    SELECT p.id, AVG(g.score) as score\n",
    "    FROM person p\n",
    "        JOIN grade g ON p.id = g.person_id\n",
    "    GROUP BY p.id\n",
    "    '''\n",
    "    \n",
    "    df = pd.read_sql(sql, conn)\n",
    "    \n",
    "df"
   ]
  },
  {
   "cell_type": "markdown",
   "id": "ce7a3930-ae13-44f8-9bbe-6420c25f6775",
   "metadata": {},
   "source": [
    "## Other applications\n",
    "\n",
    "You may use other applications to open the SQLite database.\n",
    "\n",
    "- [SQLite Studio](https://sqlitestudio.pl/)\n",
    "  - [Install SQLite Studio using brew on Mac](https://formulae.brew.sh/cask/sqlitestudio)\n",
    "- [Online SQLite Viewer](https://inloop.github.io/sqlite-viewer/)"
   ]
  }
 ],
 "metadata": {
  "kernelspec": {
   "display_name": "Python 3",
   "language": "python",
   "name": "python3"
  },
  "language_info": {
   "codemirror_mode": {
    "name": "ipython",
    "version": 3
   },
   "file_extension": ".py",
   "mimetype": "text/x-python",
   "name": "python",
   "nbconvert_exporter": "python",
   "pygments_lexer": "ipython3",
   "version": "3.8.5"
  },
  "widgets": {
   "application/vnd.jupyter.widget-state+json": {
    "state": {},
    "version_major": 2,
    "version_minor": 0
   }
  }
 },
 "nbformat": 4,
 "nbformat_minor": 5
}
